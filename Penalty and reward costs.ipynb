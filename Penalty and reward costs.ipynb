{
 "cells": [
  {
   "cell_type": "code",
   "execution_count": 2,
   "metadata": {},
   "outputs": [],
   "source": [
    "import numpy as np\n",
    "import matplotlib.pyplot as plt\n",
    "from mpl_toolkits.mplot3d import Axes3D\n"
   ]
  },
  {
   "cell_type": "code",
   "execution_count": 90,
   "metadata": {},
   "outputs": [
    {
     "data": {
      "text/plain": [
       "[<matplotlib.lines.Line2D at 0x1c18a7c2d68>]"
      ]
     },
     "execution_count": 90,
     "metadata": {},
     "output_type": "execute_result"
    },
    {
     "data": {
      "image/png": "[encoded data removed]",
      "text/plain": [
       "<Figure size 432x288 with 1 Axes>"
      ]
     },
     "metadata": {
      "needs_background": "light"
     },
     "output_type": "display_data"
    }
   ],
   "source": [
    "def heaviside(x,k,mu,amp):\n",
    "    return(amp/(1+np.exp(-2*k*(x-mu))))\n",
    "\n",
    "def reward_function2(t,dt,reward_max,x,sigma_x,mu_x):\n",
    "    mu=7.0 #the reward peak is centered around this value\n",
    "    coeff_rwd_decrease = (-0.38*reward_max+reward_max)/(15.0-mu) #experimental coefficient for the linear decrease of the reward\n",
    "    amplitude = heaviside(x=t,k=10,mu=mu+dt,amp=reward_max/dt+coeff_rwd_decrease)+heaviside(x=t,k=10,mu=mu-dt,amp=-reward_max/dt)\n",
    "    return(amplitude*np.exp(-(x-mu_x)**2/2/sigma_x**2))               \n",
    "\n",
    "t = np.linspace(0,15,1000)\n",
    "plt.plot(t,reward_function2(t=t,dt=1,reward_max=1,x=0.1,sigma_x=0.01,mu_x=0.1))\n",
    "\n",
    "# fig = plt.figure()\n",
    "# ax = fig.add_subplot(111,projection='3d')\n",
    "\n",
    "# t=np.linspace(6,8,1000)\n",
    "# x = np.linspace(0,0.5,1000)\n",
    "# T,X = np.meshgrid(t,x)\n",
    "# Z = reward_function(t=T,dt=0.1,reward_max=10.0,x=X,sigma_x=0.001,mu_x=0.1)\n",
    "# ax.plot_surface(T,X,Z,cmap='inferno', edgecolor='none')\n",
    "# ax.view_init(20, -30)\n",
    "# plt.show()"
   ]
  },
  {
   "cell_type": "code",
   "execution_count": null,
   "metadata": {},
   "outputs": [],
   "source": []
  }
 ],
 "metadata": {
  "kernelspec": {
   "display_name": "Python 3",
   "language": "python",
   "name": "python3"
  }
 },
 "nbformat": 4,
 "nbformat_minor": 2
}
